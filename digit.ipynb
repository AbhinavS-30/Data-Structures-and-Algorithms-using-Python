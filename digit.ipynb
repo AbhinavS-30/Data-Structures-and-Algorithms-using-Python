{
 "cells": [
  {
   "cell_type": "code",
   "execution_count": null,
   "id": "37bea1b0",
   "metadata": {},
   "outputs": [
    {
     "name": "stdout",
     "output_type": "stream",
     "text": [
      "5\n",
      "4\n",
      "3\n",
      "2\n",
      "1\n"
     ]
    }
   ],
   "source": [
    "def extract_digits(n):\n",
    "    num = n\n",
    "    while num > 0:\n",
    "        last_digit = num % 10                           # T.C.= 0(log n)  base 10\n",
    "        print(last_digit)                               # S.C. = O(1)\n",
    "        num = num // 10\n",
    "\n",
    "\n",
    "extract_digits(12345)"
   ]
  },
  {
   "cell_type": "code",
   "execution_count": null,
   "id": "8516167b",
   "metadata": {},
   "outputs": [
    {
     "data": {
      "text/plain": [
       "5"
      ]
     },
     "execution_count": 9,
     "metadata": {},
     "output_type": "execute_result"
    }
   ],
   "source": [
    "\n",
    "def count_digits(n):\n",
    "    num = n\n",
    "    count = 0\n",
    "    while num > 0:                                         # T.C.= 0(log n)  base 10\n",
    "        num = num // 10                                    # S.C. = O(1)\n",
    "        count += 1\n",
    "    return count\n",
    "\n",
    "count_digits(12345)\n",
    "\n"
   ]
  },
  {
   "cell_type": "code",
   "execution_count": null,
   "id": "2a0ea5c0",
   "metadata": {},
   "outputs": [
    {
     "data": {
      "text/plain": [
       "True"
      ]
     },
     "execution_count": 15,
     "metadata": {},
     "output_type": "execute_result"
    }
   ],
   "source": [
    "# check palindrome\n",
    "\n",
    "def palindrome(n):\n",
    "    num = n\n",
    "    result = 0\n",
    "    while num > 0:\n",
    "        last_digit = num % 10                               # T.C.= 0(log n)  base 10\n",
    "        result = result * 10 + last_digit                    # S.C. = O(1)\n",
    "        num = num // 10\n",
    "    \n",
    "    return result == n\n",
    "\n",
    "palindrome(12321)\n",
    "#palindrome(12345)"
   ]
  },
  {
   "cell_type": "code",
   "execution_count": null,
   "id": "e35c330f",
   "metadata": {},
   "outputs": [
    {
     "data": {
      "text/plain": [
       "True"
      ]
     },
     "execution_count": 16,
     "metadata": {},
     "output_type": "execute_result"
    }
   ],
   "source": [
    "# check armstrong number\n",
    "\n",
    "def armstrong(n):\n",
    "    num = n\n",
    "    total = 0\n",
    "    nod = len(str(num))\n",
    "    while num > 0:\n",
    "        last_digit = num % 10                           # T.C.= 0(log n)  base 10\n",
    "        total += last_digit ** nod                      # S.C. = O(1)\n",
    "        num = num // 10\n",
    "    return total == n\n",
    "\n",
    "armstrong(153)\n"
   ]
  },
  {
   "cell_type": "code",
   "execution_count": null,
   "id": "3237637f",
   "metadata": {},
   "outputs": [],
   "source": [
    "# print all factors and divisors of a number"
   ]
  },
  {
   "cell_type": "code",
   "execution_count": 17,
   "id": "91884000",
   "metadata": {},
   "outputs": [
    {
     "data": {
      "text/plain": [
       "[1, 2, 3, 4, 6, 12]"
      ]
     },
     "execution_count": 17,
     "metadata": {},
     "output_type": "execute_result"
    }
   ],
   "source": [
    "# brute forse\n",
    "\n",
    "def factors(n):\n",
    "    num = n\n",
    "    result = []\n",
    "    for i in range(1, num + 1):\n",
    "        if num % i == 0:\n",
    "            result.append(i)                               # T.C.= O(n)\n",
    "    return result                                      # S.C. = O(k) where k is the number of factors\n",
    "\n",
    "factors(12)\n"
   ]
  },
  {
   "cell_type": "code",
   "execution_count": 18,
   "id": "c908c299",
   "metadata": {},
   "outputs": [
    {
     "data": {
      "text/plain": [
       "[1, 2, 3, 4, 6, 12]"
      ]
     },
     "execution_count": 18,
     "metadata": {},
     "output_type": "execute_result"
    }
   ],
   "source": [
    "# Optimized approach\n",
    "\n",
    "def factors(n):\n",
    "    num = n\n",
    "    result = []\n",
    "    for i in range(1, (num // 2) + 1):\n",
    "        if num % i == 0:\n",
    "            result.append(i)\n",
    "    result.append(num)                                   # T.C.= O(n/2) = O(n)\n",
    "    return result                                      # S.C. = O(k) where k is the number of factors\n",
    "\n",
    "factors(12)"
   ]
  },
  {
   "cell_type": "code",
   "execution_count": 19,
   "id": "af2ab727",
   "metadata": {},
   "outputs": [
    {
     "data": {
      "text/plain": [
       "[1, 2, 3, 4, 6, 12]"
      ]
     },
     "execution_count": 19,
     "metadata": {},
     "output_type": "execute_result"
    }
   ],
   "source": [
    "# optimal approach BEST\n",
    "\n",
    "from math import sqrt\n",
    "\n",
    "def factors(n):\n",
    "    num = n\n",
    "    result = []\n",
    "    for i in range(1, int(sqrt(num)) + 1):                # T.C.= O(sqrt(n))\n",
    "        if num % i == 0:\n",
    "            result.append(i)\n",
    "            if num // i != i:\n",
    "                result.append(num // i)                  # S.C. = O(k) where k is the number of factors\n",
    "    result.sort()\n",
    "    return result\n",
    "\n",
    "factors(12)"
   ]
  },
  {
   "cell_type": "code",
   "execution_count": null,
   "id": "dac0fd64",
   "metadata": {},
   "outputs": [],
   "source": []
  },
  {
   "cell_type": "code",
   "execution_count": null,
   "id": "b37fea8a",
   "metadata": {},
   "outputs": [],
   "source": []
  },
  {
   "cell_type": "code",
   "execution_count": null,
   "id": "5598a96e",
   "metadata": {},
   "outputs": [],
   "source": []
  },
  {
   "cell_type": "code",
   "execution_count": null,
   "id": "2c6ccde2",
   "metadata": {},
   "outputs": [],
   "source": []
  },
  {
   "cell_type": "code",
   "execution_count": null,
   "id": "78cc1da6",
   "metadata": {},
   "outputs": [],
   "source": []
  },
  {
   "cell_type": "code",
   "execution_count": null,
   "id": "4667b0e3",
   "metadata": {},
   "outputs": [],
   "source": []
  },
  {
   "cell_type": "code",
   "execution_count": null,
   "id": "cae1288d",
   "metadata": {},
   "outputs": [],
   "source": []
  },
  {
   "cell_type": "code",
   "execution_count": null,
   "id": "edfb917a",
   "metadata": {},
   "outputs": [],
   "source": []
  },
  {
   "cell_type": "code",
   "execution_count": null,
   "id": "7389177d",
   "metadata": {},
   "outputs": [],
   "source": []
  },
  {
   "cell_type": "code",
   "execution_count": null,
   "id": "ccb754ac",
   "metadata": {},
   "outputs": [],
   "source": []
  },
  {
   "cell_type": "code",
   "execution_count": null,
   "id": "414e968c",
   "metadata": {},
   "outputs": [],
   "source": []
  },
  {
   "cell_type": "code",
   "execution_count": null,
   "id": "fe75706c",
   "metadata": {},
   "outputs": [],
   "source": []
  },
  {
   "cell_type": "code",
   "execution_count": null,
   "id": "5022c55f",
   "metadata": {},
   "outputs": [],
   "source": []
  },
  {
   "cell_type": "code",
   "execution_count": null,
   "id": "4c4643b9",
   "metadata": {},
   "outputs": [],
   "source": []
  },
  {
   "cell_type": "code",
   "execution_count": null,
   "id": "fe9bf9f5",
   "metadata": {},
   "outputs": [],
   "source": []
  },
  {
   "cell_type": "code",
   "execution_count": null,
   "id": "277e434d",
   "metadata": {},
   "outputs": [],
   "source": []
  },
  {
   "cell_type": "code",
   "execution_count": null,
   "id": "ae1a4ba2",
   "metadata": {},
   "outputs": [],
   "source": []
  },
  {
   "cell_type": "code",
   "execution_count": null,
   "id": "ae629466",
   "metadata": {},
   "outputs": [],
   "source": []
  }
 ],
 "metadata": {
  "kernelspec": {
   "display_name": "Python 3",
   "language": "python",
   "name": "python3"
  },
  "language_info": {
   "codemirror_mode": {
    "name": "ipython",
    "version": 3
   },
   "file_extension": ".py",
   "mimetype": "text/x-python",
   "name": "python",
   "nbconvert_exporter": "python",
   "pygments_lexer": "ipython3",
   "version": "3.7.7"
  }
 },
 "nbformat": 4,
 "nbformat_minor": 5
}
